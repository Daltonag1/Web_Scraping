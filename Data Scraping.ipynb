{
 "cells": [
  {
   "cell_type": "markdown",
   "id": "ed1a9995",
   "metadata": {},
   "source": [
    "# Import Libraries"
   ]
  },
  {
   "cell_type": "code",
   "execution_count": 1,
   "id": "4c65f1bd",
   "metadata": {},
   "outputs": [],
   "source": [
    "import requests\n",
    "from bs4 import BeautifulSoup\n",
    "import csv\n",
    "import pandas as pd\n",
    "import time"
   ]
  },
  {
   "cell_type": "markdown",
   "id": "64050522",
   "metadata": {},
   "source": [
    "# Get URL and send GET request"
   ]
  },
  {
   "cell_type": "code",
   "execution_count": 2,
   "id": "f89fcdde",
   "metadata": {},
   "outputs": [
    {
     "name": "stdout",
     "output_type": "stream",
     "text": [
      "Request successful\n"
     ]
    }
   ],
   "source": [
    "url =\"http://books.toscrape.com/\"\n",
    "response = requests.get(url)\n",
    "if response.status_code == 200:\n",
    "    print(\"Request successful\")\n",
    "else:\n",
    "    print(\"Request failed\")"
   ]
  },
  {
   "cell_type": "markdown",
   "id": "b4660bf7",
   "metadata": {},
   "source": [
    "# Parse HTML Content"
   ]
  },
  {
   "cell_type": "code",
   "execution_count": 3,
   "id": "39c50a3d",
   "metadata": {},
   "outputs": [],
   "source": [
    "soup = BeautifulSoup(response.text, \"html.parser\")\n",
    "print(soup)"
   ]
  },
  {
   "cell_type": "markdown",
   "id": "6df47809",
   "metadata": {},
   "source": [
    "# Extracting Page 1 Content\n",
    "\n",
    "### Since the complete information of the books is in each book's link, we first need to access each book's link and the extract the information"
   ]
  },
  {
   "cell_type": "code",
   "execution_count": null,
   "id": "46a96c91",
   "metadata": {},
   "outputs": [],
   "source": [
    "# Finding all books on page 1. The books link is on an \"h3\"\n",
    "\n",
    "books = soup.find_all(\"h3\")\n",
    "\n",
    "start_time = time.time()\n",
    "books_extracted = 0\n",
    "\n",
    "# For loop to iterate through the \"h3\"\n",
    "\n",
    "for book in books:\n",
    "    book_url = book.find(\"a\")[\"href\"]\n",
    "    book_response = requests.get(url + book_url)\n",
    "    book_soup =BeautifulSoup(book_response.content, \"html.parser\")\n",
    "    \n",
    "    title = book_soup.find(\"h1\").text\n",
    "    category = book_soup.find(\"ul\", class_=\"breadcrumb\").find_all(\"a\")[2].text.strip()\n",
    "    rating = book_soup.find(\"p\", class_=\"star-rating\")[\"class\"][1]\n",
    "    price = book_soup.find(\"p\", class_=\"price_color\").text.strip()\n",
    "    availability = book_soup.find(\"p\", class_=\"availability\").text.strip()\n",
    "    \n",
    "    books_extracted += 1\n",
    "    \n",
    "    end_time = time.time()\n",
    "    total_time = (end_time - start_time) / 60\n",
    "    \n",
    "    print(f'Title: {title}')\n",
    "    print(f'category: {category}')\n",
    "    print(f'rating: {rating}')\n",
    "    print(f'price: {price}')\n",
    "    print(f'availability: {availability}')\n",
    "    print(\"***********\")"
   ]
  },
  {
   "cell_type": "markdown",
   "id": "d19df4ee",
   "metadata": {},
   "source": [
    "# Extracting all pages"
   ]
  },
  {
   "cell_type": "code",
   "execution_count": null,
   "id": "0a15011f",
   "metadata": {},
   "outputs": [],
   "source": [
    "# Create a list\n",
    "\n",
    "books_data = []\n",
    "\n",
    "# Looping through all pages\n",
    "\n",
    "for page_num in range (1,51):\n",
    "    url = f'http://books.toscrape.com/catalogue/page-{page_num}.html'\n",
    "    response = requests.get(url)\n",
    "    soup = BeautifulSoup(response.content, 'html.parser')\n",
    "    \n",
    "    books = soup.find_all(\"h3\")\n",
    "\n",
    "    start_time = time.time()\n",
    "    books_extracted = 0\n",
    "\n",
    "    for book in books:\n",
    "        book_url = book.find(\"a\")[\"href\"]\n",
    "        book_response = requests.get('http://books.toscrape.com/catalogue/' + book_url)\n",
    "        book_soup = BeautifulSoup(book_response.content, \"html.parser\")\n",
    "    \n",
    "        title = book_soup.find(\"h1\").text\n",
    "        category = book_soup.find(\"ul\", class_=\"breadcrumb\").find_all(\"a\")[2].text.strip()\n",
    "        rating = book_soup.find(\"p\", class_=\"star-rating\")[\"class\"][1]\n",
    "        price = book_soup.find(\"p\", class_=\"price_color\").text.strip()\n",
    "        availability = book_soup.find(\"p\", class_=\"availability\").text.strip()\n",
    "    \n",
    "        books_extracted += 1\n",
    "    \n",
    "        end_time = time.time()\n",
    "        total_time = (end_time - start_time) / 60\n",
    "    \n",
    "        books_data.append([title,category,rating,price,availability])\n",
    "        print(books_data)\n",
    "        print(\"************\")\n",
    "        print(f'Total time taken: {total_time} minutes')\n",
    "        print(\"************\")\n",
    "        print(f'{page_num * len(books)} books extracted so far...')\n",
    "        \n",
    "# Adding information to the list"
   ]
  },
  {
   "cell_type": "markdown",
   "id": "6baff967",
   "metadata": {},
   "source": [
    "# Exporting Data"
   ]
  },
  {
   "cell_type": "code",
   "execution_count": 8,
   "id": "56706442",
   "metadata": {},
   "outputs": [
    {
     "data": {
      "text/html": [
       "<div>\n",
       "<style scoped>\n",
       "    .dataframe tbody tr th:only-of-type {\n",
       "        vertical-align: middle;\n",
       "    }\n",
       "\n",
       "    .dataframe tbody tr th {\n",
       "        vertical-align: top;\n",
       "    }\n",
       "\n",
       "    .dataframe thead th {\n",
       "        text-align: right;\n",
       "    }\n",
       "</style>\n",
       "<table border=\"1\" class=\"dataframe\">\n",
       "  <thead>\n",
       "    <tr style=\"text-align: right;\">\n",
       "      <th></th>\n",
       "      <th>Title</th>\n",
       "      <th>Category</th>\n",
       "      <th>Rating</th>\n",
       "      <th>Price</th>\n",
       "      <th>Availability</th>\n",
       "    </tr>\n",
       "  </thead>\n",
       "  <tbody>\n",
       "    <tr>\n",
       "      <th>0</th>\n",
       "      <td>A Light in the Attic</td>\n",
       "      <td>Poetry</td>\n",
       "      <td>Three</td>\n",
       "      <td>£51.77</td>\n",
       "      <td>In stock (22 available)</td>\n",
       "    </tr>\n",
       "    <tr>\n",
       "      <th>1</th>\n",
       "      <td>Tipping the Velvet</td>\n",
       "      <td>Historical Fiction</td>\n",
       "      <td>One</td>\n",
       "      <td>£53.74</td>\n",
       "      <td>In stock (20 available)</td>\n",
       "    </tr>\n",
       "    <tr>\n",
       "      <th>2</th>\n",
       "      <td>Soumission</td>\n",
       "      <td>Fiction</td>\n",
       "      <td>One</td>\n",
       "      <td>£50.10</td>\n",
       "      <td>In stock (20 available)</td>\n",
       "    </tr>\n",
       "    <tr>\n",
       "      <th>3</th>\n",
       "      <td>Sharp Objects</td>\n",
       "      <td>Mystery</td>\n",
       "      <td>Four</td>\n",
       "      <td>£47.82</td>\n",
       "      <td>In stock (20 available)</td>\n",
       "    </tr>\n",
       "    <tr>\n",
       "      <th>4</th>\n",
       "      <td>Sapiens: A Brief History of Humankind</td>\n",
       "      <td>History</td>\n",
       "      <td>Five</td>\n",
       "      <td>£54.23</td>\n",
       "      <td>In stock (20 available)</td>\n",
       "    </tr>\n",
       "    <tr>\n",
       "      <th>5</th>\n",
       "      <td>The Requiem Red</td>\n",
       "      <td>Young Adult</td>\n",
       "      <td>One</td>\n",
       "      <td>£22.65</td>\n",
       "      <td>In stock (19 available)</td>\n",
       "    </tr>\n",
       "    <tr>\n",
       "      <th>6</th>\n",
       "      <td>The Dirty Little Secrets of Getting Your Dream...</td>\n",
       "      <td>Business</td>\n",
       "      <td>Four</td>\n",
       "      <td>£33.34</td>\n",
       "      <td>In stock (19 available)</td>\n",
       "    </tr>\n",
       "    <tr>\n",
       "      <th>7</th>\n",
       "      <td>The Coming Woman: A Novel Based on the Life of...</td>\n",
       "      <td>Default</td>\n",
       "      <td>Three</td>\n",
       "      <td>£17.93</td>\n",
       "      <td>In stock (19 available)</td>\n",
       "    </tr>\n",
       "    <tr>\n",
       "      <th>8</th>\n",
       "      <td>The Boys in the Boat: Nine Americans and Their...</td>\n",
       "      <td>Default</td>\n",
       "      <td>Four</td>\n",
       "      <td>£22.60</td>\n",
       "      <td>In stock (19 available)</td>\n",
       "    </tr>\n",
       "    <tr>\n",
       "      <th>9</th>\n",
       "      <td>The Black Maria</td>\n",
       "      <td>Poetry</td>\n",
       "      <td>One</td>\n",
       "      <td>£52.15</td>\n",
       "      <td>In stock (19 available)</td>\n",
       "    </tr>\n",
       "  </tbody>\n",
       "</table>\n",
       "</div>"
      ],
      "text/plain": [
       "                                               Title            Category   \n",
       "0                               A Light in the Attic              Poetry  \\\n",
       "1                                 Tipping the Velvet  Historical Fiction   \n",
       "2                                         Soumission             Fiction   \n",
       "3                                      Sharp Objects             Mystery   \n",
       "4              Sapiens: A Brief History of Humankind             History   \n",
       "5                                    The Requiem Red         Young Adult   \n",
       "6  The Dirty Little Secrets of Getting Your Dream...            Business   \n",
       "7  The Coming Woman: A Novel Based on the Life of...             Default   \n",
       "8  The Boys in the Boat: Nine Americans and Their...             Default   \n",
       "9                                    The Black Maria              Poetry   \n",
       "\n",
       "  Rating   Price             Availability  \n",
       "0  Three  £51.77  In stock (22 available)  \n",
       "1    One  £53.74  In stock (20 available)  \n",
       "2    One  £50.10  In stock (20 available)  \n",
       "3   Four  £47.82  In stock (20 available)  \n",
       "4   Five  £54.23  In stock (20 available)  \n",
       "5    One  £22.65  In stock (19 available)  \n",
       "6   Four  £33.34  In stock (19 available)  \n",
       "7  Three  £17.93  In stock (19 available)  \n",
       "8   Four  £22.60  In stock (19 available)  \n",
       "9    One  £52.15  In stock (19 available)  "
      ]
     },
     "execution_count": 8,
     "metadata": {},
     "output_type": "execute_result"
    }
   ],
   "source": [
    "# Convert list into a df\n",
    "df = pd.DataFrame(books_data, columns=[\"Title\", \"Category\", \"Rating\", \"Price\", \"Availability\"])\n",
    "\n",
    "df.head(10)"
   ]
  },
  {
   "cell_type": "markdown",
   "id": "9b681f4f",
   "metadata": {},
   "source": [
    "# Creating a csv file"
   ]
  },
  {
   "cell_type": "code",
   "execution_count": 9,
   "id": "91eec0b6",
   "metadata": {},
   "outputs": [
    {
     "name": "stdout",
     "output_type": "stream",
     "text": [
      "Data saved into csv file\n"
     ]
    }
   ],
   "source": [
    "df.to_csv(\"books_scraped.csv\", index = False)\n",
    "print(\"Data saved into csv file\")"
   ]
  },
  {
   "cell_type": "code",
   "execution_count": null,
   "id": "3145ed3a",
   "metadata": {},
   "outputs": [],
   "source": []
  }
 ],
 "metadata": {
  "kernelspec": {
   "display_name": "Python 3 (ipykernel)",
   "language": "python",
   "name": "python3"
  },
  "language_info": {
   "codemirror_mode": {
    "name": "ipython",
    "version": 3
   },
   "file_extension": ".py",
   "mimetype": "text/x-python",
   "name": "python",
   "nbconvert_exporter": "python",
   "pygments_lexer": "ipython3",
   "version": "3.11.3"
  }
 },
 "nbformat": 4,
 "nbformat_minor": 5
}
